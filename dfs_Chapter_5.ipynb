{
  "nbformat": 4,
  "nbformat_minor": 0,
  "metadata": {
    "colab": {
      "name": "\bdfs_Chapter_5.ipynb",
      "provenance": [],
      "collapsed_sections": [],
      "mount_file_id": "https://gist.github.com/tmsk0711/7ca661b9bb906696ccb251ec89404760#file--dfs_chapter_5-ipynb",
      "authorship_tag": "ABX9TyNq+qR1uHD1guVtc3sIJ01k",
      "include_colab_link": true
    },
    "kernelspec": {
      "name": "python3",
      "display_name": "Python 3"
    },
    "language_info": {
      "name": "python"
    }
  },
  "cells": [
    {
      "cell_type": "markdown",
      "metadata": {
        "id": "view-in-github",
        "colab_type": "text"
      },
      "source": [
        "<a href=\"https://colab.research.google.com/github/tmsk0711/coding_test-/blob/main/%08dfs_Chapter_5.ipynb\" target=\"_parent\"><img src=\"https://colab.research.google.com/assets/colab-badge.svg\" alt=\"Open In Colab\"/></a>"
      ]
    },
    {
      "cell_type": "markdown",
      "source": [
        "# 음료수 얼려 먹기\n",
        "> N x M이 얼음 틀이 있다. 구멍이 뚫려 있는 부분은 0, 칸막이가 존재하는 부분은 1로 표시된다. 구멍이 뚫려 있는 부분끼리 상, 하, 좌, 우로 붙어 있는 경우 서로 연결되어 있는 것으로 간주한다. 이때 일을 틀의 모양이 주어졌을 때 생성되는 총 아이스크림의 개수를 구하는 프로그램을 작성하시오. \n",
        "* 다음의 4 x 5 얼음 틀 예시에서는 아이스크림이 총 3개 생성된다.\n",
        "\n",
        "* 0 0 1 1 0 \n",
        "* 0 0 0 1 1 \n",
        "* 1 1 1 1 1 \n",
        "* 0 0 0 0 0\n",
        "\n",
        "입력 조건• 첫 번째 줄에 얼음 틀의 세로 길이 N과 가로 길이 M이 주어진다. (1 ≤ N, M ≤ 1,000)\n",
        "\n",
        "• 두 번째 줄부터 N +1 번째 줄까지 얼음 틀의 형태가 주어진다.\n",
        "\n",
        "• 이때 구멍이 뚫려있는 부분은 0, 그렇지 않은 부분은 1이다.\n",
        "\n",
        "출력 조건· 한 번에 만들 수 있는 아이스크림의 개수를 출력한다."
      ],
      "metadata": {
        "id": "BRtOdiW-6FXg"
      }
    },
    {
      "cell_type": "code",
      "source": [
        "def iceNum(x,y):\n",
        "  # 주어진 범위 벗어난 경우\n",
        "  if x <= -1 or x >= n or y <= -1 or y >= m :\n",
        "    return False\n",
        "  # 노드 방문 값 \n",
        "  if case[x][y] == 0:\n",
        "    # 방문 처리\n",
        "    case[x][y] = 1\n",
        "    \n",
        "    # 상,하,좌,우 위치 재귀적 호출 (상,하,좌,우 다 방문했으면 True)\n",
        "    iceNum(x-1 , y) # 상\n",
        "    iceNum(x , y-1) # 좌\n",
        "    iceNum(x+1 , y) # 하\n",
        "    iceNum(x , y+1) # 우\n",
        "    \n",
        "    return True\n",
        "\n",
        "  return False"
      ],
      "metadata": {
        "id": "dQpyPvFHXLZG"
      },
      "execution_count": null,
      "outputs": []
    },
    {
      "cell_type": "code",
      "source": [
        "# 공백 구분 값 입력\n",
        "n,m = map(int, input().split())\n",
        "\n",
        "# 2차원 리스트 앱 정보 입력\n",
        "case = []\n",
        "for i in range(n):\n",
        "  case.append(list(map(int, input())))\n",
        "\n",
        "# 모든 위치 음료수 채우기\n",
        "ice = 0\n",
        "for i in range(n):\n",
        "  for j in range(m):\n",
        "    if iceNum(i,j) == True:\n",
        "      ice +=1\n",
        "\n",
        "print(ice)\n",
        "\n",
        "\n"
      ],
      "metadata": {
        "colab": {
          "base_uri": "https://localhost:8080/"
        },
        "id": "CMA6--kS9GBk",
        "outputId": "28f7c04d-dd22-4b11-96e6-606ac7498bf3"
      },
      "execution_count": null,
      "outputs": [
        {
          "output_type": "stream",
          "name": "stdout",
          "text": [
            "3 3\n",
            "001\n",
            "010\n",
            "101\n",
            "3\n"
          ]
        }
      ]
    },
    {
      "cell_type": "code",
      "source": [
        ""
      ],
      "metadata": {
        "id": "Nr1YGOSqaPEO"
      },
      "execution_count": null,
      "outputs": []
    }
  ]
}