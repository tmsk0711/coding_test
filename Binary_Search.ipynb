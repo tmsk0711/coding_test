{
  "nbformat": 4,
  "nbformat_minor": 0,
  "metadata": {
    "colab": {
      "name": "\bBinary_Search.ipynb",
      "provenance": [],
      "authorship_tag": "ABX9TyOLIMyylGYhzHIEAlvA07RN",
      "include_colab_link": true
    },
    "kernelspec": {
      "name": "python3",
      "display_name": "Python 3"
    },
    "language_info": {
      "name": "python"
    }
  },
  "cells": [
    {
      "cell_type": "markdown",
      "metadata": {
        "id": "view-in-github",
        "colab_type": "text"
      },
      "source": [
        "<a href=\"https://colab.research.google.com/github/tmsk0711/coding_test/blob/main/%08Binary_Search.ipynb\" target=\"_parent\"><img src=\"https://colab.research.google.com/assets/colab-badge.svg\" alt=\"Open In Colab\"/></a>"
      ]
    },
    {
      "cell_type": "markdown",
      "source": [
        "# 이진탐색 (Binary Search)\n",
        "> * 데이터가 무작위 일때는 사용할 수 없지만 ,배열 내부의 데이터가 정렬 되어 있어야 사용할 수 있는 알고리즘\n",
        "* 탐색 범위를 절반씩 좁혀가며 데이터 탐색\n",
        "* 위치를 나타내는 변수 3개 범위의 시작점, 끝점, 중간점\n",
        "* 찾으려는 데이터, 중간점 데이터를 반복적으로 비교해서 데이터를 찾음\n",
        "\n",
        "> * https://www.acmicpc.net/problem/1920"
      ],
      "metadata": {
        "id": "d8BuEm3xwnft"
      }
    },
    {
      "cell_type": "code",
      "execution_count": null,
      "metadata": {
        "colab": {
          "base_uri": "https://localhost:8080/"
        },
        "id": "xq-2LAzgwkAj",
        "outputId": "a3bf005f-20b3-487f-f14e-2b56cf60a982"
      },
      "outputs": [
        {
          "output_type": "stream",
          "name": "stdout",
          "text": [
            "5\n",
            "4 1 5 2 3\n",
            "res : 0 \n",
            "1\n",
            "res : 2 \n",
            "1\n",
            "res : None \n",
            "0\n",
            "res : None \n",
            "0\n",
            "res : 4 \n",
            "1\n"
          ]
        }
      ],
      "source": [
        "def binary_search(array, target, start, end):\n",
        "  while start <= end: # \n",
        "    mid = (start+end) // 2 \n",
        "\n",
        "    if array[mid] == target: #\n",
        "      return mid\n",
        "    \n",
        "    elif array[mid] > target: # 작으면 왼쪽 확인\n",
        "      end = mid - 1 \n",
        "    elif array[mid] < target: # 크면 오른쪽 확인\n",
        "      start = mid + 1\n",
        "  \n",
        "  return None\n",
        "\n",
        "N = int(input())\n",
        "\n",
        "array = list(map(int, input().split()))\n",
        "array.sort()\n",
        "\n",
        "M = int(input())\n",
        "\n",
        "x = list(map(int, input().split()))\n",
        "\n",
        "for i in x: #[1,3,7,9,5]\n",
        "\n",
        "  result = binary_search(array, i, 0, N-1)\n",
        "  print(f\"res : {result} \")\n",
        "  if result != None:\n",
        "    print('1\\n', end='')\n",
        "  else:\n",
        "    print('0\\n', end='')\n"
      ]
    },
    {
      "cell_type": "markdown",
      "source": [
        "> * https://www.acmicpc.net/problem/10816"
      ],
      "metadata": {
        "id": "RNipNrbAKXTN"
      }
    },
    {
      "cell_type": "code",
      "source": [
        "from sys import stdin\n",
        "\n",
        "def binary_search(array, target, start, end):\n",
        "  while start <= end: \n",
        "    mid = (start+end) // 2 \n",
        "\n",
        "    if array[mid] == target: #\n",
        "      return array[start:end+1].count(target)\n",
        "    \n",
        "    elif array[mid] > target: # 작으면 왼쪽 확인\n",
        "      end = mid - 1 \n",
        "    elif array[mid] < target: # 크면 오른쪽 확인\n",
        "      start = mid + 1\n",
        "  \n",
        "  return None\n",
        "\n",
        "N = int(input())\n",
        "\n",
        "array = list(map(int, input().split()))\n",
        "array.sort()\n",
        "\n",
        "M = int(input())\n",
        "\n",
        "x = list(map(int, input().split()))\n",
        "\n",
        "\n",
        "for i in x: #[1,3,7,9,5]\n",
        "\n",
        "  result = binary_search(array, i, 0, N-1)\n",
        "  # print(f\"res : {result} \")\n",
        "  if result != None:\n",
        "    print(f'{result}\\n', end='')\n",
        "  else:\n",
        "    print('0\\n', end='')\n"
      ],
      "metadata": {
        "colab": {
          "base_uri": "https://localhost:8080/"
        },
        "id": "CvQlIk4p8A3k",
        "outputId": "54a344b8-586c-4309-cf6b-8ef1c596016d"
      },
      "execution_count": null,
      "outputs": [
        {
          "output_type": "stream",
          "name": "stdout",
          "text": [
            "10\n",
            "6 3 2 10 10 10 -10 -10 7 3\n",
            "8\n",
            "10 9 -5 2 3 4 5 -10\n",
            "3\n",
            "0\n",
            "0\n",
            "1\n",
            "2\n",
            "0\n",
            "0\n",
            "2\n"
          ]
        }
      ]
    },
    {
      "cell_type": "code",
      "source": [
        "6 3 2 10 10 10 -10 -10 7 3\n",
        "\n",
        "10 9 -5 2 3 4 5 -10"
      ],
      "metadata": {
        "id": "kyaDhgyLJK4T"
      },
      "execution_count": null,
      "outputs": []
    },
    {
      "cell_type": "code",
      "source": [
        "x = list(map(int, input().split()))\n",
        "x[0:5+1].count(3)"
      ],
      "metadata": {
        "colab": {
          "base_uri": "https://localhost:8080/"
        },
        "id": "84LFp97eRlZ7",
        "outputId": "4e3dbf9e-f270-4551-e7ef-b2966f14a28b"
      },
      "execution_count": null,
      "outputs": [
        {
          "name": "stdout",
          "output_type": "stream",
          "text": [
            "1 2 3 4 5\n"
          ]
        },
        {
          "output_type": "execute_result",
          "data": {
            "text/plain": [
              "1"
            ]
          },
          "metadata": {},
          "execution_count": 22
        }
      ]
    },
    {
      "cell_type": "code",
      "source": [
        ""
      ],
      "metadata": {
        "id": "a-FK_q6ARwvy"
      },
      "execution_count": null,
      "outputs": []
    }
  ]
}